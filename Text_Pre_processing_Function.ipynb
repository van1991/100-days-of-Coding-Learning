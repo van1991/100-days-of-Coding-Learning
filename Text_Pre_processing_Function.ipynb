{
  "nbformat": 4,
  "nbformat_minor": 0,
  "metadata": {
    "colab": {
      "name": "Text Pre-processing Function",
      "provenance": [],
      "collapsed_sections": [],
      "authorship_tag": "ABX9TyPxy9BN8zYmNU+x3Iu7cAA3",
      "include_colab_link": true
    },
    "kernelspec": {
      "name": "python3",
      "display_name": "Python 3"
    }
  },
  "cells": [
    {
      "cell_type": "markdown",
      "metadata": {
        "id": "view-in-github",
        "colab_type": "text"
      },
      "source": [
        "<a href=\"https://colab.research.google.com/github/van1991/100-days-of-Coding-Learning/blob/master/Text_Pre_processing_Function.ipynb\" target=\"_parent\"><img src=\"https://colab.research.google.com/assets/colab-badge.svg\" alt=\"Open In Colab\"/></a>"
      ]
    },
    {
      "cell_type": "markdown",
      "metadata": {
        "id": "gSELqq9DbYks",
        "colab_type": "text"
      },
      "source": [
        "## Feature Engineering on Text Data\n",
        "#### There can be multiple ways of cleaning and pre-processing textual data. In the following points, we highlight some of the most important ones which are used heavily in Natural Language Processing (NLP) pipelines.\n",
        "\n",
        "Reference: https://towardsdatascience.com/understanding-feature-engineering-part-3-traditional-methods-for-text-data-f6f7d70acd41\n"
      ]
    },
    {
      "cell_type": "markdown",
      "metadata": {
        "id": "3yYkXMN5bdVC",
        "colab_type": "text"
      },
      "source": [
        "### **Removing tags:** Our text often contains unnecessary content like HTML tags, which do not add much value when analyzing text. The BeautifulSoup library does an excellent job in providing necessary functions for this."
      ]
    },
    {
      "cell_type": "code",
      "metadata": {
        "id": "OopgjemJbN2Y",
        "colab_type": "code",
        "colab": {
          "base_uri": "https://localhost:8080/",
          "height": 72
        },
        "outputId": "b62c8929-0740-4f40-cfb3-7260bd68d851"
      },
      "source": [
        "def remove_html_tags (text):\n",
        "  from bs4 import BeautifulSoup\n",
        "  soup = BeautifulSoup(text, \"html.parser\")\n",
        "  html_stripped_text = soup.get_text()\n",
        "  return html_stripped_text\n",
        "\n",
        "remove_html_tags(document)"
      ],
      "execution_count": 2,
      "outputs": [
        {
          "output_type": "execute_result",
          "data": {
            "application/vnd.google.colaboratory.intrinsic+json": {
              "type": "string"
            },
            "text/plain": [
              "\"Héllo! Héllo! can you hear me! I just heard about Python!\\r\\n \\n              It's an amazing language which can be used for Scripting, Web development,\\r\\n\\r\\n\\n              Information Retrieval, Natural Language Processing, Machine Learning & Artificial Intelligence!\\n\\n              What are you waiting for? Go and get started. He's learning, she's learning, they've already\\n\\n\\n              got a headstart!\\n\""
            ]
          },
          "metadata": {
            "tags": []
          },
          "execution_count": 2
        }
      ]
    },
    {
      "cell_type": "markdown",
      "metadata": {
        "id": "3QB6fIROexOE",
        "colab_type": "text"
      },
      "source": [
        "### **Removing accented characters**: In any text corpus, especially if you are dealing with the English language, often you might be dealing with accented characters\\letters. Hence we need to make sure that these characters are converted and standardized into ASCII characters. A simple example would be converting é to e."
      ]
    },
    {
      "cell_type": "code",
      "metadata": {
        "id": "7DtKy2DDewxf",
        "colab_type": "code",
        "colab": {}
      },
      "source": [
        "def remove_accented_chars(text):\n",
        "  import unicodedata\n",
        "  \n"
      ],
      "execution_count": null,
      "outputs": []
    },
    {
      "cell_type": "code",
      "metadata": {
        "id": "yQjCU3tCciKd",
        "colab_type": "code",
        "colab": {
          "base_uri": "https://localhost:8080/",
          "height": 72
        },
        "outputId": "9a0a1349-3c7a-47d0-f77e-e0f118f40c9a"
      },
      "source": [
        "document = \"\"\"<p>Héllo! Héllo! can you hear me! I just heard about <b>Python</b>!<br/>\\r\\n \n",
        "              It's an amazing language which can be used for Scripting, Web development,\\r\\n\\r\\n\n",
        "              Information Retrieval, Natural Language Processing, Machine Learning & Artificial Intelligence!\\n\n",
        "              What are you waiting for? Go and get started.<br/> He's learning, she's learning, they've already\\n\\n\n",
        "              got a headstart!</p>\n",
        "           \"\"\"\n",
        "document"
      ],
      "execution_count": 1,
      "outputs": [
        {
          "output_type": "execute_result",
          "data": {
            "application/vnd.google.colaboratory.intrinsic+json": {
              "type": "string"
            },
            "text/plain": [
              "\"<p>Héllo! Héllo! can you hear me! I just heard about <b>Python</b>!<br/>\\r\\n \\n              It's an amazing language which can be used for Scripting, Web development,\\r\\n\\r\\n\\n              Information Retrieval, Natural Language Processing, Machine Learning & Artificial Intelligence!\\n\\n              What are you waiting for? Go and get started.<br/> He's learning, she's learning, they've already\\n\\n\\n              got a headstart!</p>\\n           \""
            ]
          },
          "metadata": {
            "tags": []
          },
          "execution_count": 1
        }
      ]
    }
  ]
}